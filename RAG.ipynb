{
 "cells": [
  {
   "cell_type": "markdown",
   "metadata": {},
   "source": [
    "### A Simple RAG Implementation"
   ]
  },
  {
   "cell_type": "code",
   "execution_count": 3,
   "metadata": {},
   "outputs": [
    {
     "name": "stdout",
     "output_type": "stream",
     "text": [
      "Requirement already satisfied: unstructured in c:\\users\\ayush\\miniconda3\\envs\\llms\\lib\\site-packages (0.16.11)\n",
      "Requirement already satisfied: libmagic in c:\\users\\ayush\\miniconda3\\envs\\llms\\lib\\site-packages (1.0)\n",
      "Requirement already satisfied: python-magic in c:\\users\\ayush\\miniconda3\\envs\\llms\\lib\\site-packages (0.4.27)\n",
      "Requirement already satisfied: python-magic-bin in c:\\users\\ayush\\miniconda3\\envs\\llms\\lib\\site-packages (0.4.14)\n",
      "Requirement already satisfied: langchain in c:\\users\\ayush\\miniconda3\\envs\\llms\\lib\\site-packages (0.2.17)\n",
      "Requirement already satisfied: langchain-community in c:\\users\\ayush\\miniconda3\\envs\\llms\\lib\\site-packages (0.2.19)\n",
      "Requirement already satisfied: chardet in c:\\users\\ayush\\miniconda3\\envs\\llms\\lib\\site-packages (from unstructured) (5.2.0)\n",
      "Requirement already satisfied: filetype in c:\\users\\ayush\\miniconda3\\envs\\llms\\lib\\site-packages (from unstructured) (1.2.0)\n",
      "Requirement already satisfied: lxml in c:\\users\\ayush\\miniconda3\\envs\\llms\\lib\\site-packages (from unstructured) (5.3.0)\n",
      "Requirement already satisfied: nltk in c:\\users\\ayush\\miniconda3\\envs\\llms\\lib\\site-packages (from unstructured) (3.9.1)\n",
      "Requirement already satisfied: requests in c:\\users\\ayush\\miniconda3\\envs\\llms\\lib\\site-packages (from unstructured) (2.32.3)\n",
      "Requirement already satisfied: beautifulsoup4 in c:\\users\\ayush\\miniconda3\\envs\\llms\\lib\\site-packages (from unstructured) (4.12.3)\n",
      "Requirement already satisfied: emoji in c:\\users\\ayush\\miniconda3\\envs\\llms\\lib\\site-packages (from unstructured) (2.14.0)\n",
      "Requirement already satisfied: dataclasses-json in c:\\users\\ayush\\miniconda3\\envs\\llms\\lib\\site-packages (from unstructured) (0.6.7)\n",
      "Requirement already satisfied: python-iso639 in c:\\users\\ayush\\miniconda3\\envs\\llms\\lib\\site-packages (from unstructured) (2024.10.22)\n",
      "Requirement already satisfied: langdetect in c:\\users\\ayush\\miniconda3\\envs\\llms\\lib\\site-packages (from unstructured) (1.0.9)\n",
      "Requirement already satisfied: numpy<2 in c:\\users\\ayush\\miniconda3\\envs\\llms\\lib\\site-packages (from unstructured) (1.26.4)\n",
      "Requirement already satisfied: rapidfuzz in c:\\users\\ayush\\miniconda3\\envs\\llms\\lib\\site-packages (from unstructured) (3.11.0)\n",
      "Requirement already satisfied: backoff in c:\\users\\ayush\\miniconda3\\envs\\llms\\lib\\site-packages (from unstructured) (2.2.1)\n",
      "Requirement already satisfied: typing-extensions in c:\\users\\ayush\\miniconda3\\envs\\llms\\lib\\site-packages (from unstructured) (4.12.2)\n",
      "Requirement already satisfied: unstructured-client in c:\\users\\ayush\\miniconda3\\envs\\llms\\lib\\site-packages (from unstructured) (0.28.1)\n",
      "Requirement already satisfied: wrapt in c:\\users\\ayush\\miniconda3\\envs\\llms\\lib\\site-packages (from unstructured) (1.17.0)\n",
      "Requirement already satisfied: tqdm in c:\\users\\ayush\\miniconda3\\envs\\llms\\lib\\site-packages (from unstructured) (4.67.1)\n",
      "Requirement already satisfied: psutil in c:\\users\\ayush\\miniconda3\\envs\\llms\\lib\\site-packages (from unstructured) (6.1.0)\n",
      "Requirement already satisfied: python-oxmsg in c:\\users\\ayush\\miniconda3\\envs\\llms\\lib\\site-packages (from unstructured) (0.0.1)\n",
      "Requirement already satisfied: html5lib in c:\\users\\ayush\\miniconda3\\envs\\llms\\lib\\site-packages (from unstructured) (1.1)\n",
      "Requirement already satisfied: PyYAML>=5.3 in c:\\users\\ayush\\miniconda3\\envs\\llms\\lib\\site-packages (from langchain) (6.0.2)\n",
      "Requirement already satisfied: SQLAlchemy<3,>=1.4 in c:\\users\\ayush\\miniconda3\\envs\\llms\\lib\\site-packages (from langchain) (2.0.36)\n",
      "Requirement already satisfied: aiohttp<4.0.0,>=3.8.3 in c:\\users\\ayush\\miniconda3\\envs\\llms\\lib\\site-packages (from langchain) (3.11.7)\n",
      "Requirement already satisfied: langchain-core<0.3.0,>=0.2.43 in c:\\users\\ayush\\miniconda3\\envs\\llms\\lib\\site-packages (from langchain) (0.2.43)\n",
      "Requirement already satisfied: langchain-text-splitters<0.3.0,>=0.2.0 in c:\\users\\ayush\\miniconda3\\envs\\llms\\lib\\site-packages (from langchain) (0.2.4)\n",
      "Requirement already satisfied: langsmith<0.2.0,>=0.1.17 in c:\\users\\ayush\\miniconda3\\envs\\llms\\lib\\site-packages (from langchain) (0.1.146)\n",
      "Requirement already satisfied: pydantic<3,>=1 in c:\\users\\ayush\\miniconda3\\envs\\llms\\lib\\site-packages (from langchain) (2.9.2)\n",
      "Requirement already satisfied: tenacity!=8.4.0,<9.0.0,>=8.1.0 in c:\\users\\ayush\\miniconda3\\envs\\llms\\lib\\site-packages (from langchain) (8.5.0)\n",
      "Requirement already satisfied: aiohappyeyeballs>=2.3.0 in c:\\users\\ayush\\miniconda3\\envs\\llms\\lib\\site-packages (from aiohttp<4.0.0,>=3.8.3->langchain) (2.4.3)\n",
      "Requirement already satisfied: aiosignal>=1.1.2 in c:\\users\\ayush\\miniconda3\\envs\\llms\\lib\\site-packages (from aiohttp<4.0.0,>=3.8.3->langchain) (1.3.1)\n",
      "Requirement already satisfied: attrs>=17.3.0 in c:\\users\\ayush\\miniconda3\\envs\\llms\\lib\\site-packages (from aiohttp<4.0.0,>=3.8.3->langchain) (24.2.0)\n",
      "Requirement already satisfied: frozenlist>=1.1.1 in c:\\users\\ayush\\miniconda3\\envs\\llms\\lib\\site-packages (from aiohttp<4.0.0,>=3.8.3->langchain) (1.5.0)\n",
      "Requirement already satisfied: multidict<7.0,>=4.5 in c:\\users\\ayush\\miniconda3\\envs\\llms\\lib\\site-packages (from aiohttp<4.0.0,>=3.8.3->langchain) (6.1.0)\n",
      "Requirement already satisfied: propcache>=0.2.0 in c:\\users\\ayush\\miniconda3\\envs\\llms\\lib\\site-packages (from aiohttp<4.0.0,>=3.8.3->langchain) (0.2.0)\n",
      "Requirement already satisfied: yarl<2.0,>=1.17.0 in c:\\users\\ayush\\miniconda3\\envs\\llms\\lib\\site-packages (from aiohttp<4.0.0,>=3.8.3->langchain) (1.18.0)\n",
      "Requirement already satisfied: marshmallow<4.0.0,>=3.18.0 in c:\\users\\ayush\\miniconda3\\envs\\llms\\lib\\site-packages (from dataclasses-json->unstructured) (3.23.1)\n",
      "Requirement already satisfied: typing-inspect<1,>=0.4.0 in c:\\users\\ayush\\miniconda3\\envs\\llms\\lib\\site-packages (from dataclasses-json->unstructured) (0.9.0)\n",
      "Requirement already satisfied: jsonpatch<2.0,>=1.33 in c:\\users\\ayush\\miniconda3\\envs\\llms\\lib\\site-packages (from langchain-core<0.3.0,>=0.2.43->langchain) (1.33)\n",
      "Requirement already satisfied: packaging<25,>=23.2 in c:\\users\\ayush\\miniconda3\\envs\\llms\\lib\\site-packages (from langchain-core<0.3.0,>=0.2.43->langchain) (24.2)\n",
      "Requirement already satisfied: httpx<1,>=0.23.0 in c:\\users\\ayush\\miniconda3\\envs\\llms\\lib\\site-packages (from langsmith<0.2.0,>=0.1.17->langchain) (0.27.2)\n",
      "Requirement already satisfied: orjson<4.0.0,>=3.9.14 in c:\\users\\ayush\\miniconda3\\envs\\llms\\lib\\site-packages (from langsmith<0.2.0,>=0.1.17->langchain) (3.10.12)\n",
      "Requirement already satisfied: requests-toolbelt<2.0.0,>=1.0.0 in c:\\users\\ayush\\miniconda3\\envs\\llms\\lib\\site-packages (from langsmith<0.2.0,>=0.1.17->langchain) (1.0.0)\n",
      "Requirement already satisfied: annotated-types>=0.6.0 in c:\\users\\ayush\\miniconda3\\envs\\llms\\lib\\site-packages (from pydantic<3,>=1->langchain) (0.7.0)\n",
      "Requirement already satisfied: pydantic-core==2.23.4 in c:\\users\\ayush\\miniconda3\\envs\\llms\\lib\\site-packages (from pydantic<3,>=1->langchain) (2.23.4)\n",
      "Requirement already satisfied: charset-normalizer<4,>=2 in c:\\users\\ayush\\miniconda3\\envs\\llms\\lib\\site-packages (from requests->unstructured) (3.4.0)\n",
      "Requirement already satisfied: idna<4,>=2.5 in c:\\users\\ayush\\miniconda3\\envs\\llms\\lib\\site-packages (from requests->unstructured) (3.10)\n",
      "Requirement already satisfied: urllib3<3,>=1.21.1 in c:\\users\\ayush\\miniconda3\\envs\\llms\\lib\\site-packages (from requests->unstructured) (2.2.3)\n",
      "Requirement already satisfied: certifi>=2017.4.17 in c:\\users\\ayush\\miniconda3\\envs\\llms\\lib\\site-packages (from requests->unstructured) (2024.8.30)\n",
      "Requirement already satisfied: greenlet!=0.4.17 in c:\\users\\ayush\\miniconda3\\envs\\llms\\lib\\site-packages (from SQLAlchemy<3,>=1.4->langchain) (3.1.1)\n",
      "Requirement already satisfied: soupsieve>1.2 in c:\\users\\ayush\\miniconda3\\envs\\llms\\lib\\site-packages (from beautifulsoup4->unstructured) (2.5)\n",
      "Requirement already satisfied: six>=1.9 in c:\\users\\ayush\\miniconda3\\envs\\llms\\lib\\site-packages (from html5lib->unstructured) (1.16.0)\n",
      "Requirement already satisfied: webencodings in c:\\users\\ayush\\miniconda3\\envs\\llms\\lib\\site-packages (from html5lib->unstructured) (0.5.1)\n",
      "Requirement already satisfied: click in c:\\users\\ayush\\miniconda3\\envs\\llms\\lib\\site-packages (from nltk->unstructured) (8.1.7)\n",
      "Requirement already satisfied: joblib in c:\\users\\ayush\\miniconda3\\envs\\llms\\lib\\site-packages (from nltk->unstructured) (1.4.2)\n",
      "Requirement already satisfied: regex>=2021.8.3 in c:\\users\\ayush\\miniconda3\\envs\\llms\\lib\\site-packages (from nltk->unstructured) (2024.11.6)\n",
      "Requirement already satisfied: olefile in c:\\users\\ayush\\miniconda3\\envs\\llms\\lib\\site-packages (from python-oxmsg->unstructured) (0.47)\n",
      "Requirement already satisfied: colorama in c:\\users\\ayush\\miniconda3\\envs\\llms\\lib\\site-packages (from tqdm->unstructured) (0.4.6)\n",
      "Requirement already satisfied: aiofiles>=24.1.0 in c:\\users\\ayush\\miniconda3\\envs\\llms\\lib\\site-packages (from unstructured-client->unstructured) (24.1.0)\n",
      "Requirement already satisfied: cryptography>=3.1 in c:\\users\\ayush\\miniconda3\\envs\\llms\\lib\\site-packages (from unstructured-client->unstructured) (43.0.3)\n",
      "Requirement already satisfied: eval-type-backport<0.3.0,>=0.2.0 in c:\\users\\ayush\\miniconda3\\envs\\llms\\lib\\site-packages (from unstructured-client->unstructured) (0.2.2)\n",
      "Requirement already satisfied: jsonpath-python<2.0.0,>=1.0.6 in c:\\users\\ayush\\miniconda3\\envs\\llms\\lib\\site-packages (from unstructured-client->unstructured) (1.0.6)\n",
      "Requirement already satisfied: nest-asyncio>=1.6.0 in c:\\users\\ayush\\miniconda3\\envs\\llms\\lib\\site-packages (from unstructured-client->unstructured) (1.6.0)\n",
      "Requirement already satisfied: pypdf>=4.0 in c:\\users\\ayush\\miniconda3\\envs\\llms\\lib\\site-packages (from unstructured-client->unstructured) (5.1.0)\n",
      "Requirement already satisfied: python-dateutil<3.0.0,>=2.8.2 in c:\\users\\ayush\\miniconda3\\envs\\llms\\lib\\site-packages (from unstructured-client->unstructured) (2.9.0.post0)\n",
      "Requirement already satisfied: cffi>=1.12 in c:\\users\\ayush\\miniconda3\\envs\\llms\\lib\\site-packages (from cryptography>=3.1->unstructured-client->unstructured) (1.17.1)\n",
      "Requirement already satisfied: anyio in c:\\users\\ayush\\miniconda3\\envs\\llms\\lib\\site-packages (from httpx<1,>=0.23.0->langsmith<0.2.0,>=0.1.17->langchain) (4.6.2.post1)\n",
      "Requirement already satisfied: httpcore==1.* in c:\\users\\ayush\\miniconda3\\envs\\llms\\lib\\site-packages (from httpx<1,>=0.23.0->langsmith<0.2.0,>=0.1.17->langchain) (1.0.7)\n",
      "Requirement already satisfied: sniffio in c:\\users\\ayush\\miniconda3\\envs\\llms\\lib\\site-packages (from httpx<1,>=0.23.0->langsmith<0.2.0,>=0.1.17->langchain) (1.3.1)\n",
      "Requirement already satisfied: h11<0.15,>=0.13 in c:\\users\\ayush\\miniconda3\\envs\\llms\\lib\\site-packages (from httpcore==1.*->httpx<1,>=0.23.0->langsmith<0.2.0,>=0.1.17->langchain) (0.14.0)\n",
      "Requirement already satisfied: jsonpointer>=1.9 in c:\\users\\ayush\\miniconda3\\envs\\llms\\lib\\site-packages (from jsonpatch<2.0,>=1.33->langchain-core<0.3.0,>=0.2.43->langchain) (3.0.0)\n",
      "Requirement already satisfied: mypy-extensions>=0.3.0 in c:\\users\\ayush\\miniconda3\\envs\\llms\\lib\\site-packages (from typing-inspect<1,>=0.4.0->dataclasses-json->unstructured) (1.0.0)\n",
      "Requirement already satisfied: pycparser in c:\\users\\ayush\\miniconda3\\envs\\llms\\lib\\site-packages (from cffi>=1.12->cryptography>=3.1->unstructured-client->unstructured) (2.22)\n"
     ]
    }
   ],
   "source": [
    "# Install necessary dependencies\n",
    "!pip install unstructured libmagic python-magic python-magic-bin langchain langchain-community"
   ]
  },
  {
   "cell_type": "code",
   "execution_count": 4,
   "metadata": {},
   "outputs": [],
   "source": [
    "# Initialize llama2 model using Ollama\n",
    "from langchain_community.llms import Ollama\n",
    "MODEL=\"llama3.3\"\n",
    "llama_llm = Ollama(model=MODEL)"
   ]
  },
  {
   "cell_type": "code",
   "execution_count": 5,
   "metadata": {},
   "outputs": [
    {
     "name": "stdout",
     "output_type": "stream",
     "text": [
      "Loading PDF files...\n",
      "Splitting documents into chunks...\n",
      "Embedding chunks with BERT...\n"
     ]
    },
    {
     "name": "stderr",
     "output_type": "stream",
     "text": [
      "C:\\Users\\ayush\\AppData\\Local\\Temp\\ipykernel_18332\\1484678092.py:26: LangChainDeprecationWarning: The class `HuggingFaceEmbeddings` was deprecated in LangChain 0.2.2 and will be removed in 1.0. An updated version of the class exists in the langchain-huggingface package and should be used instead. To use it run `pip install -U langchain-huggingface` and import as `from langchain_huggingface import HuggingFaceEmbeddings`.\n",
      "  embeddings = HuggingFaceEmbeddings(model_name=\"sentence-transformers/all-MiniLM-L6-v2\")\n"
     ]
    },
    {
     "name": "stdout",
     "output_type": "stream",
     "text": [
      "Indexing embeddings into FAISS...\n",
      "Loading LLaMA model...\n",
      "Creating RAG system...\n"
     ]
    }
   ],
   "source": [
    "# Necessary Imports\n",
    "import os\n",
    "from langchain.document_loaders import PyPDFLoader\n",
    "from langchain.text_splitter import RecursiveCharacterTextSplitter\n",
    "from langchain.embeddings import HuggingFaceEmbeddings\n",
    "from langchain.vectorstores import FAISS\n",
    "from langchain.chains import RetrievalQA\n",
    "\n",
    "# Step 1: Load PDF files using PyPDFLoader\n",
    "def load_pdfs(folder_path):\n",
    "    documents = []\n",
    "    for file_name in os.listdir(folder_path):\n",
    "        if file_name.endswith(\".pdf\"):\n",
    "            loader = PyPDFLoader(os.path.join(folder_path, file_name))\n",
    "            documents.extend(loader.load())\n",
    "    return documents\n",
    "\n",
    "# Step 2: Chunk documents for better retrieval performance\n",
    "def chunk_documents(documents, chunk_size=1000, chunk_overlap=200):\n",
    "    text_splitter = RecursiveCharacterTextSplitter(chunk_size=chunk_size, chunk_overlap=chunk_overlap)\n",
    "    chunks = text_splitter.split_documents(documents)\n",
    "    return chunks\n",
    "\n",
    "# Step 3: Embed the chunks using BERT-based Hugging Face embeddings\n",
    "def embed_chunks_with_bert(chunks):\n",
    "    embeddings = HuggingFaceEmbeddings(model_name=\"sentence-transformers/all-MiniLM-L6-v2\")\n",
    "    chunk_texts = [chunk.page_content for chunk in chunks]\n",
    "    vectors = embeddings.embed_documents(chunk_texts)\n",
    "    return vectors, chunk_texts\n",
    "\n",
    "# Step 4: Index embeddings in a FAISS vector store\n",
    "def index_embeddings(texts):\n",
    "    vector_store = FAISS.from_texts(texts, HuggingFaceEmbeddings(model_name=\"sentence-transformers/all-MiniLM-L6-v2\"))\n",
    "    return vector_store\n",
    "\n",
    "# Step 5: Set up the LLaMA model\n",
    "def load_llama_model(model_name=\"llama2\"):\n",
    "    llama_llm = Ollama(model=model_name)\n",
    "    return llama_llm\n",
    "    \n",
    "\n",
    "# Step 6: Create a RAG system\n",
    "def create_rag_system(vector_store, llama_llm):\n",
    "    retriever = vector_store.as_retriever()\n",
    "    rag_chain = RetrievalQA.from_chain_type(llm=llama_llm, retriever=retriever)\n",
    "    return rag_chain\n",
    "\n",
    "# Main function to build and run the RAG pipeline\n",
    "\n",
    "\n",
    "folder_path = \"Documentation\"  \n",
    "\n",
    "print(\"Loading PDF files...\")\n",
    "documents = load_pdfs(folder_path)\n",
    "\n",
    "# Chunk documents\n",
    "print(\"Splitting documents into chunks...\")\n",
    "chunks = chunk_documents(documents)\n",
    "\n",
    "# Embed chunks\n",
    "print(\"Embedding chunks with BERT...\")\n",
    "vectors, chunk_texts = embed_chunks_with_bert(chunks)\n",
    "\n",
    "# Index embeddings\n",
    "print(\"Indexing embeddings into FAISS...\")\n",
    "vector_store = index_embeddings(chunk_texts)\n",
    "\n",
    "# Load LLaMA model\n",
    "print(\"Loading LLaMA model...\")\n",
    "llama_llm = load_llama_model()\n",
    "\n",
    "# Create RAG system\n",
    "print(\"Creating RAG system...\")\n",
    "rag_system = create_rag_system(vector_store, llama_llm)\n"
   ]
  },
  {
   "cell_type": "code",
   "execution_count": 6,
   "metadata": {},
   "outputs": [],
   "source": [
    "# Run the RAG model\n",
    "def run_query(query):\n",
    "    print(\"Running query...\")\n",
    "    response = rag_system.run(query)\n",
    "    print(\"\\nResponse:\",response)\n"
   ]
  },
  {
   "cell_type": "code",
   "execution_count": 9,
   "metadata": {},
   "outputs": [
    {
     "name": "stdout",
     "output_type": "stream",
     "text": [
      "Running query...\n",
      "\n",
      "Response: Based on the context provided, the following functions are deprecated in Python 3.13:\n",
      "\n",
      "* `soft deprecated` - This keyword is used to mark a function or method as deprecated, but it will still work and produce warnings. There are no specific functions marked as `soft deprecated` in this release of Python.\n",
      "* `special method` - This keyword is used to mark a method as special, meaning it has different behavior than a regular method. There are no specific functions marked as `special method` in this release of Python.\n",
      "* `static type checker` - The static type checker is a feature that checks the types of variables at compile-time. It is not specific to any function or method, but rather a feature of the language.\n",
      "* `universal newlines` - This keyword is used to indicate that a string can contain any combination of newline characters (`\\n`, `\\r`, `\\r\\n`). There are no specific functions marked as `universal newlines` in this release of Python.\n",
      "* `virtual environment` - A virtual environment is a isolated Python environment that can be used to manage dependencies and avoid polluting the global Python environment. There are no specific functions marked as `virtual environment` in this release of Python.\n",
      "* `Zen of Python` - This is not a function or method, but rather a section in the Python Language Reference that provides guiding principles for writing Python code.\n",
      "\n",
      "Therefore, I cannot answer the question \"What functions are deprecated in this release of Python?\" as no functions are marked as deprecated in the context provided.\n"
     ]
    }
   ],
   "source": [
    "user_query = \"What functions are deprecated in this release of Python?\" \n",
    "run_query(user_query)"
   ]
  },
  {
   "cell_type": "markdown",
   "metadata": {},
   "source": [
    "The model automatically answers questions based on Python, which is what we desired. Let's pass the same prompt to a vanilla llama2 model"
   ]
  },
  {
   "cell_type": "code",
   "execution_count": null,
   "metadata": {},
   "outputs": [],
   "source": [
    "print(llama_llm.invoke(\"What functions are deprecated in 3.13 release of Python?\"))"
   ]
  },
  {
   "cell_type": "markdown",
   "metadata": {},
   "source": [
    "The model outputs a generalized answer, as it doesn't have context of python"
   ]
  },
  {
   "cell_type": "markdown",
   "metadata": {},
   "source": []
  }
 ],
 "metadata": {
  "kernelspec": {
   "display_name": "llms",
   "language": "python",
   "name": "python3"
  },
  "language_info": {
   "codemirror_mode": {
    "name": "ipython",
    "version": 3
   },
   "file_extension": ".py",
   "mimetype": "text/x-python",
   "name": "python",
   "nbconvert_exporter": "python",
   "pygments_lexer": "ipython3",
   "version": "3.11.10"
  }
 },
 "nbformat": 4,
 "nbformat_minor": 2
}
